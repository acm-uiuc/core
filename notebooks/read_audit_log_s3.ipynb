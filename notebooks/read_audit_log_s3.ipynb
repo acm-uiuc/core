{
 "cells": [
  {
   "cell_type": "markdown",
   "id": "ba97204d",
   "metadata": {},
   "source": [
    "## Read Audit Logs from S3\n",
    "Make sure that you have signed into AWS and setup a profile.\n",
    "\n",
    "Also, create `config.py` with contents:\n",
    "```python\n",
    "AUDIT_LOG_S3_BUCKET = \"<bucket name of archival data bucket>\"\n",
    "AWS_PROFILE = \"<AWS_PROFILE HERE>\"\n",
    "```"
   ]
  },
  {
   "cell_type": "code",
   "execution_count": null,
   "id": "22f8f0a6",
   "metadata": {},
   "outputs": [],
   "source": [
    "%pip install s3fs pandas pyarrow"
   ]
  },
  {
   "cell_type": "code",
   "execution_count": null,
   "id": "84a7370f",
   "metadata": {},
   "outputs": [],
   "source": [
    "import os\n",
    "import config\n",
    "import pyarrow.fs as fs\n",
    "import pyarrow.dataset as ds\n",
    "assert config.AUDIT_LOG_S3_BUCKET\n",
    "assert config.AWS_PROFILE\n",
    "os.environ[\"AWS_PROFILE\"] = config.AWS_PROFILE\n",
    "\n",
    "module_to_read = \"tickets\"\n",
    "s3_path = f\"s3://{config.AUDIT_LOG_S3_BUCKET}/module={module_to_read}/year=2025/month=08/\"\n",
    "s3, path = fs.FileSystem.from_uri(s3_path)\n",
    "dataset = ds.dataset(path, partitioning=\"hive\", filesystem=s3, format=\"parquet\")\n",
    "\n",
    "table = dataset.to_table()\n",
    "\n",
    "print(f\"Successfully read {table.num_rows} rows.\")\n",
    "table.to_pandas()"
   ]
  },
  {
   "cell_type": "code",
   "execution_count": null,
   "id": "328af1fa",
   "metadata": {},
   "outputs": [],
   "source": []
  }
 ],
 "metadata": {
  "kernelspec": {
   "display_name": "base",
   "language": "python",
   "name": "python3"
  },
  "language_info": {
   "codemirror_mode": {
    "name": "ipython",
    "version": 3
   },
   "file_extension": ".py",
   "mimetype": "text/x-python",
   "name": "python",
   "nbconvert_exporter": "python",
   "pygments_lexer": "ipython3",
   "version": "3.13.5"
  }
 },
 "nbformat": 4,
 "nbformat_minor": 5
}
