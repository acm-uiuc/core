{
 "cells": [
  {
   "cell_type": "markdown",
   "id": "ba97204d",
   "metadata": {},
   "source": [
    "## Read Archived Logs from S3\n",
    "Make sure that you have signed into AWS and setup a profile.\n",
    "\n",
    "Also, create `config.py` with contents:\n",
    "```python\n",
    "ARCHIVE_S3_BUCKET = \"<bucket name of archival data bucket>\"\n",
    "AWS_PROFILE = \"<AWS_PROFILE HERE>\"\n",
    "```"
   ]
  },
  {
   "cell_type": "code",
   "execution_count": null,
   "id": "22f8f0a6",
   "metadata": {},
   "outputs": [],
   "source": [
    "!pip install s3fs pandas"
   ]
  },
  {
   "cell_type": "code",
   "execution_count": null,
   "id": "84a7370f",
   "metadata": {},
   "outputs": [],
   "source": [
    "import pandas as pd\n",
    "import config\n",
    "\n",
    "assert config.ARCHIVE_S3_BUCKET\n",
    "assert config.AWS_PROFILE\n",
    "module_to_read = \"ExampleTableWithStream\"\n",
    "# configure this s3 path correctly based on the date you're looking for, etc.\n",
    "s3_path = f\"s3://{config.ARCHIVE_S3_BUCKET}/resource={module_to_read}/**/*.gz\"\n",
    "\n",
    "df = pd.read_json(\n",
    "    s3_path,\n",
    "    lines=True,\n",
    "    compression=\"gzip\",\n",
    "    storage_options={\"profile\": config.AWS_PROFILE, \"expand\": True},\n",
    ")\n",
    "\n",
    "print(df.head())"
   ]
  },
  {
   "cell_type": "code",
   "execution_count": null,
   "id": "328af1fa",
   "metadata": {},
   "outputs": [],
   "source": []
  }
 ],
 "metadata": {
  "kernelspec": {
   "display_name": "base",
   "language": "python",
   "name": "python3"
  },
  "language_info": {
   "codemirror_mode": {
    "name": "ipython",
    "version": 3
   },
   "file_extension": ".py",
   "mimetype": "text/x-python",
   "name": "python",
   "nbconvert_exporter": "python",
   "pygments_lexer": "ipython3",
   "version": "3.13.5"
  }
 },
 "nbformat": 4,
 "nbformat_minor": 5
}
